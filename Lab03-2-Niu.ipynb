{
 "cells": [
  {
   "cell_type": "code",
   "execution_count": null,
   "metadata": {},
   "outputs": [],
   "source": [
    "#1"
   ]
  },
  {
   "cell_type": "code",
   "execution_count": 1,
   "metadata": {},
   "outputs": [
    {
     "name": "stdout",
     "output_type": "stream",
     "text": [
      "the level of accuracy:0.1\n",
      "the limit of the number of draws:10\n",
      "0.0\n",
      "2.0\n",
      "2.6666666666666665\n",
      "3.0\n",
      "draw limit was exceeded and the percentage difference between the current estimate of Pi and the true value is 0.04507034144862795\n"
     ]
    }
   ],
   "source": [
    "import random\n",
    "import math\n",
    "import matplotlib.pyplot as plt\n",
    "pi = math.pi\n",
    "n = 0\n",
    "d = 0\n",
    "ratios = []\n",
    "percentdifferences = []\n",
    "xs = []\n",
    "ys = []\n",
    "a = input(\"the level of accuracy:\")#the level of accuracy\n",
    "a = float(a)\n",
    "b = input(\"the limit of the number of draws:\")#the limit of the number of draws\n",
    "b = int(b)\n",
    "\n",
    "while d <= b:\n",
    "    x = random.random()\n",
    "    y = random.random()\n",
    "    xs.append(x)\n",
    "    ys.append(y)\n",
    "    if x**2 + y**2 <= 1.0:\n",
    "        n += 1\n",
    "    d += 1\n",
    "    ratio = 4 * n * 1./d\n",
    "    ratios.append(ratio)\n",
    "    print(ratio)\n",
    "    percentdifference  = abs(ratio-pi) / pi \n",
    "    percentdifferences.append(percentdifference)\n",
    "    \n",
    "    if percentdifference <= a:\n",
    "        print(\"draw limit was exceeded and the percentage difference between the current estimate of Pi and the true value is\", percentdifferences[-1])\n",
    "        break "
   ]
  },
  {
   "cell_type": "code",
   "execution_count": null,
   "metadata": {},
   "outputs": [],
   "source": [
    "#2"
   ]
  },
  {
   "cell_type": "code",
   "execution_count": 53,
   "metadata": {},
   "outputs": [
    {
     "name": "stdout",
     "output_type": "stream",
     "text": [
      "average number of draws required from the 10 runs at the level of 0.01 is 34.600000, and standard deviation of the number of draws required is 14.677875\n",
      "average number of draws required from the 10 runs at the level of 0.001 is 660.400000, and standard deviation of the number of draws required is 430.571527\n",
      "average number of draws required from the 10 runs at the level of 0.0001 is 3694.800000, and standard deviation of the number of draws required is 1996.299967\n",
      "average number of draws required from the 10 runs at the level of 0.00001 is 9709.200000, and standard deviation of the number of draws required is 4391.456633\n"
     ]
    }
   ],
   "source": [
    "import random\n",
    "import math\n",
    "import matplotlib.pyplot as plt\n",
    "import numpy as np \n",
    "pi = math.pi\n",
    "n = 0\n",
    "d = 0\n",
    "m1 = 0\n",
    "m2 = 0\n",
    "m3 = 0\n",
    "m4 = 0\n",
    "ratios = []\n",
    "xs = []\n",
    "ys = []\n",
    "ds1 = []\n",
    "ds2 = []\n",
    "ds3 = []\n",
    "ds4 = []\n",
    "simulating = True # use as a sentinel\n",
    "setinel = 0\n",
    "while simulating:\n",
    "    x = random.random()\n",
    "    y = random.random()\n",
    "    if x**2 + y**2 <= 1.0:\n",
    "        n += 1\n",
    "    d += 1\n",
    "    ratio = 4 * n * 1./d\n",
    "    percentdifference  = abs(ratio-pi) / pi \n",
    "    \n",
    "    if percentdifference <= 0.00001:\n",
    "        ds1.append(d)\n",
    "        m1 += 1\n",
    "    if m1 == 10:\n",
    "        mean1 = np.mean(ds1)\n",
    "        std1 = np.std(ds1)\n",
    "        print(\"average number of draws required from the 10 runs at the level of 0.00001 is %f, and standard deviation of the number of draws required is %f\"%(mean1, std1))\n",
    "        setinel += 1 \n",
    "       \n",
    "                        \n",
    "    if percentdifference <= 0.0001:\n",
    "        ds2.append(d)\n",
    "        m2 += 1\n",
    "    if m2 == 10:\n",
    "        mean2 = np.mean(ds2)\n",
    "        std2 = np.std(ds2)\n",
    "        print(\"average number of draws required from the 10 runs at the level of 0.0001 is %f, and standard deviation of the number of draws required is %f\"%(mean2, std2))\n",
    "        setinel += 1\n",
    "        \n",
    "        \n",
    "    if percentdifference <= 0.001:\n",
    "        ds3.append(d)\n",
    "        m3 += 1\n",
    "    if m3 == 10:\n",
    "        mean3 = np.mean(ds3)\n",
    "        std3 = np.std(ds3)\n",
    "        print(\"average number of draws required from the 10 runs at the level of 0.001 is %f, and standard deviation of the number of draws required is %f\"%(mean3, std3))\n",
    "        setinel += 1\n",
    "        \n",
    "        \n",
    "    if percentdifference <= 0.01:\n",
    "        ds4.append(d)\n",
    "        m4 += 1\n",
    "    if m4 == 10:\n",
    "        mean4 = np.mean(ds4)\n",
    "        std4 = np.std(ds4)\n",
    "        print(\"average number of draws required from the 10 runs at the level of 0.01 is %f, and standard deviation of the number of draws required is %f\"%(mean4, std4))\n",
    "        setinel += 1\n",
    "\n",
    "    \n",
    "        \n",
    "    if setinel == 4:\n",
    "        break"
   ]
  },
  {
   "cell_type": "code",
   "execution_count": null,
   "metadata": {},
   "outputs": [],
   "source": []
  },
  {
   "cell_type": "code",
   "execution_count": null,
   "metadata": {},
   "outputs": [],
   "source": []
  },
  {
   "cell_type": "code",
   "execution_count": null,
   "metadata": {},
   "outputs": [],
   "source": []
  },
  {
   "cell_type": "code",
   "execution_count": null,
   "metadata": {},
   "outputs": [],
   "source": []
  }
 ],
 "metadata": {
  "kernelspec": {
   "display_name": "Python 3",
   "language": "python",
   "name": "python3"
  },
  "language_info": {
   "codemirror_mode": {
    "name": "ipython",
    "version": 3
   },
   "file_extension": ".py",
   "mimetype": "text/x-python",
   "name": "python",
   "nbconvert_exporter": "python",
   "pygments_lexer": "ipython3",
   "version": "3.7.4"
  }
 },
 "nbformat": 4,
 "nbformat_minor": 2
}
